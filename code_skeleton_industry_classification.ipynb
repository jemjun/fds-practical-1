{
 "cells": [
  {
   "cell_type": "code",
   "execution_count": null,
   "id": "f564b91e",
   "metadata": {},
   "outputs": [],
   "source": [
    "import numpy as np\n",
    "import pandas as pd\n",
    "import ast\n",
    "\n",
    "from sklearn.model_selection import train_test_split\n",
    "from sklearn.preprocessing import OneHotEncoder, LabelEncoder\n",
    "\n",
    "from sklearn.linear_model import LogisticRegression\n",
    "from sklearn.metrics import accuracy_score, f1_score\n",
    "from sklearn.neighbors import KNeighborsClassifier\n",
    "from sklearn.decomposition import PCA\n",
    "import seaborn as sns"
   ]
  },
  {
   "cell_type": "markdown",
   "id": "84070536",
   "metadata": {},
   "source": [
    "# Loading Data"
   ]
  },
  {
   "cell_type": "code",
   "execution_count": 136,
   "id": "2e8d8fc1",
   "metadata": {},
   "outputs": [],
   "source": [
    "df = pd.read_pickle(\"data/df_train.pkl\")\n",
    "\n",
    "df_train, df_val = train_test_split(df, test_size= 0.1, random_state=42)"
   ]
  },
  {
   "cell_type": "code",
   "execution_count": 137,
   "id": "4ac9b46c",
   "metadata": {},
   "outputs": [],
   "source": [
    "X_train = df_train.business_description_embedding.apply(ast.literal_eval).tolist()\n",
    "X_train = np.array(X_train)\n",
    "\n",
    "X_val = df_val.business_description_embedding.apply(ast.literal_eval).tolist()\n",
    "X_val = np.array(X_val)"
   ]
  },
  {
   "cell_type": "code",
   "execution_count": 138,
   "id": "70d9b070",
   "metadata": {},
   "outputs": [
    {
     "data": {
      "text/html": [
       "<div>\n",
       "<style scoped>\n",
       "    .dataframe tbody tr th:only-of-type {\n",
       "        vertical-align: middle;\n",
       "    }\n",
       "\n",
       "    .dataframe tbody tr th {\n",
       "        vertical-align: top;\n",
       "    }\n",
       "\n",
       "    .dataframe thead th {\n",
       "        text-align: right;\n",
       "    }\n",
       "</style>\n",
       "<table border=\"1\" class=\"dataframe\">\n",
       "  <thead>\n",
       "    <tr style=\"text-align: right;\">\n",
       "      <th></th>\n",
       "      <th>id</th>\n",
       "      <th>industry</th>\n",
       "      <th>business_description_embedding</th>\n",
       "    </tr>\n",
       "  </thead>\n",
       "  <tbody>\n",
       "    <tr>\n",
       "      <th>31138</th>\n",
       "      <td>34170</td>\n",
       "      <td>Financial Services</td>\n",
       "      <td>[0.019633012,0.009427597,0.006240986,0.0177257...</td>\n",
       "    </tr>\n",
       "    <tr>\n",
       "      <th>15120</th>\n",
       "      <td>16504</td>\n",
       "      <td>Technology Hardware &amp; Equipment</td>\n",
       "      <td>[0.026561439,-0.049749356,-0.006847293,-0.0088...</td>\n",
       "    </tr>\n",
       "    <tr>\n",
       "      <th>23693</th>\n",
       "      <td>25893</td>\n",
       "      <td>Consumer Durables &amp; Apparel</td>\n",
       "      <td>[0.0115894,-0.035240766,-0.029952582,0.0226988...</td>\n",
       "    </tr>\n",
       "  </tbody>\n",
       "</table>\n",
       "</div>"
      ],
      "text/plain": [
       "          id  ...                     business_description_embedding\n",
       "31138  34170  ...  [0.019633012,0.009427597,0.006240986,0.0177257...\n",
       "15120  16504  ...  [0.026561439,-0.049749356,-0.006847293,-0.0088...\n",
       "23693  25893  ...  [0.0115894,-0.035240766,-0.029952582,0.0226988...\n",
       "\n",
       "[3 rows x 3 columns]"
      ]
     },
     "execution_count": 138,
     "metadata": {},
     "output_type": "execute_result"
    }
   ],
   "source": [
    "df_train.head(3)"
   ]
  },
  {
   "cell_type": "markdown",
   "id": "86b9c942",
   "metadata": {},
   "source": [
    "# Transforming Data (Label Encoding)\n",
    "\n",
    "### Tasks:\n",
    "- Use the scikit-learn label encoder to encode the industry names\n",
    "- Check if all classes contained in the validation set are also in the training set"
   ]
  },
  {
   "cell_type": "markdown",
   "id": "f10e2318",
   "metadata": {},
   "source": [
    "#"
   ]
  },
  {
   "cell_type": "code",
   "execution_count": 147,
   "id": "a30f15d8",
   "metadata": {},
   "outputs": [],
   "source": [
    "# Fit the label encoder to the classes (industry names)"
   ]
  },
  {
   "cell_type": "code",
   "execution_count": 146,
   "id": "688047af",
   "metadata": {},
   "outputs": [],
   "source": [
    "y_train = None # encode labels\n",
    "y_val =  None # encode labels"
   ]
  },
  {
   "cell_type": "markdown",
   "id": "acb5c66a",
   "metadata": {},
   "source": [
    "# Visualize the data"
   ]
  },
  {
   "cell_type": "markdown",
   "id": "fd414b4b",
   "metadata": {},
   "source": [
    "### Tasks:\n",
    "- Are certain classes over- or under represented? Either produce a table or a plot to show this.\n",
    "- Inspect whether there is signal in the business description embeddings:\n",
    "    - Perform a PCA to project data into 2 dimensions\n",
    "    - Plot projected data in Scatterplot and color based on classes\n",
    "    - Provide a description of what you see and judge whether there is signal in the data that allows industry classification\n",
    "\n",
    "Important: Ensure that your plots have proper axis descriptions and titles. Style the plots so that differences in class distributions are visible (e.g. scatter size, transparency, color, etc.)"
   ]
  },
  {
   "cell_type": "markdown",
   "id": "44a7ef88",
   "metadata": {},
   "source": [
    "### Class distribution"
   ]
  },
  {
   "cell_type": "code",
   "execution_count": 125,
   "id": "25bcfe32",
   "metadata": {},
   "outputs": [],
   "source": [
    "# Plot the class distribution or provide a table that shows how many times each class (industry) appears\n",
    "# Describe your findings"
   ]
  },
  {
   "cell_type": "markdown",
   "id": "debe2d11",
   "metadata": {},
   "source": [
    "### PCA - Dimensionality reduction and visualization"
   ]
  },
  {
   "cell_type": "code",
   "execution_count": 126,
   "id": "b66fb94d",
   "metadata": {},
   "outputs": [],
   "source": [
    "# Performa a PCA and plot the projected data. Color the scatter plot based on the classes\n",
    "# Analyse what you see"
   ]
  },
  {
   "cell_type": "markdown",
   "id": "58796834",
   "metadata": {},
   "source": [
    "# Fitting and comparing Classifier Models"
   ]
  },
  {
   "cell_type": "markdown",
   "id": "7f9a99e0",
   "metadata": {},
   "source": [
    "### Tasks:\n",
    "- Split the data into train and validation data\n",
    "- Encode the industry labels using LabelEncoder (scikit-learn)\n",
    "- Fit a LogisticRegression and a kNN-classifier\n",
    "- Compare the model performance of both models:\n",
    "    - Compute Accuracy and F1 score\n",
    "        - Interpret the scores: Explain how they are computed and judge if your model performs well\n",
    "        - Analyze the classification errors: \n",
    "            - Do the errors correlate with how well classes are represented?\n",
    "            - Which industries does the model identify well and which seem to be similar?\n",
    "    - Plot a confusion matrix for both models (combine scikit-learn confusion matrix and seaborn heatmap plot)\n",
    "    - Do both models misclassify the same examples?\n",
    "\n",
    "Import: Use proper axis labels for the plots! "
   ]
  },
  {
   "cell_type": "code",
   "execution_count": 148,
   "id": "1d5d99bd",
   "metadata": {},
   "outputs": [],
   "source": [
    "# your code"
   ]
  },
  {
   "cell_type": "markdown",
   "id": "d74c9bb5",
   "metadata": {},
   "source": [
    "# Optional: Confidence Weighted Prediction\n",
    "\n",
    "## Deliverables:\n",
    "\n",
    "- Provide a notebook with the implementation and training of a industry classifier model\n",
    "- The model shall output the industry classification and its confidence as a tuple of vectors $(\\hat{y}_{pred}, \\hat{y}_{confidence})$\n",
    "- The confidence score must be between 0 and 1, $\\hat{y}_{confidence} [i] \\in [0,1]$\n",
    "- Your model will be evaluated on a private test set\n",
    "- The designing the confidence score is your task. You may use p-values, a voting mechanism of multiple models, or other techniques\n",
    "- Another option is to add more features, e.g. financial data, to X"
   ]
  },
  {
   "cell_type": "code",
   "execution_count": 139,
   "id": "59397174",
   "metadata": {},
   "outputs": [],
   "source": [
    "def confidence_weighted_f1(y_true, y_pred, confidence):\n",
    "    # Weight all predictions, not just positives\n",
    "    weighted_tp = np.sum(confidence * (y_pred == 1) * (y_true == 1))\n",
    "    weighted_fp = np.sum(confidence * (y_pred == 1) * (y_true == 0))\n",
    "    weighted_fn = np.sum(confidence * (y_pred == 0) * (y_true == 1))\n",
    "    \n",
    "    precision = weighted_tp / (weighted_tp + weighted_fp) if (weighted_tp + weighted_fp) > 0 else 0\n",
    "    recall = weighted_tp / (weighted_tp + weighted_fn) if (weighted_tp + weighted_fn) > 0 else 0\n",
    "    \n",
    "    f1 = 2 * (precision * recall) / (precision + recall) if (precision + recall) > 0 else 0\n",
    "    return f1"
   ]
  },
  {
   "cell_type": "code",
   "execution_count": null,
   "id": "1ef12211",
   "metadata": {},
   "outputs": [],
   "source": []
  }
 ],
 "metadata": {
  "kernelspec": {
   "display_name": ".venv",
   "language": "python",
   "name": "python3"
  },
  "language_info": {
   "codemirror_mode": {
    "name": "ipython",
    "version": 3
   },
   "file_extension": ".py",
   "mimetype": "text/x-python",
   "name": "python",
   "nbconvert_exporter": "python",
   "pygments_lexer": "ipython3",
   "version": "3.10.18"
  }
 },
 "nbformat": 4,
 "nbformat_minor": 5
}
